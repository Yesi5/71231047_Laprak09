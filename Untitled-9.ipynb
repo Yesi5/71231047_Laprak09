{
 "cells": [
  {
   "cell_type": "code",
   "execution_count": 3,
   "metadata": {},
   "outputs": [
    {
     "name": "stdout",
     "output_type": "stream",
     "text": [
      "Baris 1:\n",
      "File 1: Halo, ini file1.txt\n",
      "File 2: Halo, ini file2.txt\n",
      "\n",
      "Baris 2:\n",
      "File 1: Baris kedua dari file1\n",
      "File 2: Baris kedua file2 yang berbeda\n",
      "\n",
      "Baris 3:\n",
      "File 1: Ini baris ketiga\n",
      "File 2: Baris ketiga sama\n",
      "\n",
      "Baris 4:\n",
      "File 2: Baris keempat hanya di file2\n",
      "\n"
     ]
    }
   ],
   "source": [
    "# Latihan 1\n",
    "with open(\"file1.txt\", \"w\") as file1:\n",
    "    file1.write(\"Halo, ini file1.txt\\n\")\n",
    "    file1.write(\"Baris kedua dari file1\\n\")\n",
    "    file1.write(\"Ini baris ketiga\\n\")\n",
    "\n",
    "with open(\"file2.txt\", \"w\") as file2:\n",
    "    file2.write(\"Halo, ini file2.txt\\n\")\n",
    "    file2.write(\"Baris kedua file2 yang berbeda\\n\")\n",
    "    file2.write(\"Baris ketiga sama\\n\")\n",
    "    file2.write(\"Baris keempat hanya di file2\\n\")\n",
    "\n",
    "with open(\"file1.txt\", \"r\") as file1, open(\"file2.txt\", \"r\") as file2:\n",
    "    isi_file1 = file1.readlines()\n",
    "    isi_file2 = file2.readlines()\n",
    "\n",
    "for i, (baris1, baris2) in enumerate(zip(isi_file1, isi_file2), start=1):\n",
    "    if baris1 != baris2:\n",
    "        print(f\"Baris {i}:\")\n",
    "        print(f\"File 1: {baris1.rstrip()}\")\n",
    "        print(f\"File 2: {baris2.rstrip()}\")\n",
    "        print()\n",
    "\n",
    "if len(isi_file1) < len(isi_file2):\n",
    "    for i, baris in enumerate(isi_file2[len(isi_file1):], start=len(isi_file1)+1):\n",
    "        print(f\"Baris {i}:\")\n",
    "        print(f\"File 2: {baris.rstrip()}\")\n",
    "        print()\n",
    "elif len(isi_file2) < len(isi_file1):\n",
    "    for i, baris in enumerate(isi_file1[len(isi_file2):], start=len(isi_file2)+1):\n",
    "        print(f\"Baris {i}:\")\n",
    "        print(f\"File 1: {baris.rstrip()}\")\n",
    "        print()\n",
    "\n",
    "if isi_file1 == isi_file2:\n",
    "    print(\"Tidak ada perbedaan antara kedua file.\")"
   ]
  },
  {
   "cell_type": "code",
   "execution_count": 14,
   "metadata": {},
   "outputs": [
    {
     "name": "stdout",
     "output_type": "stream",
     "text": [
      "Nama file: soal.txt\n",
      "1+1 =\n",
      "Jawaban benar!\n",
      "Bendera Indonesia?\n",
      "Jawaban benar!\n",
      "Kota gudeg adalah:\n",
      "Jawaban benar!\n",
      "Komponen PC untuk penyimpanan file adalah...\n",
      "Jawaban benar!\n",
      "50 *20 =\n",
      "Jawaban benar!\n",
      "\n",
      "Hasil akhir:\n",
      "Jumlah jawaban benar: 5\n",
      "Jumlah total soal: 5\n",
      "Persentase kebenaran: 100.00%\n"
     ]
    }
   ],
   "source": [
    "# Latihan 2\n",
    "\n",
    "def load_questions(file_name):\n",
    "    questions = {}\n",
    "    with open(file_name, 'r') as file:\n",
    "        for line in file:\n",
    "            question, answer = line.strip().split(\"||\")\n",
    "            questions[question.strip()] = answer.strip()\n",
    "    return questions\n",
    "\n",
    "def main():\n",
    "    file_name = \"soal.txt\"\n",
    "    questions = load_questions(file_name)\n",
    "    print(\"Nama file:\", file_name)\n",
    "    \n",
    "    correct_answers = 0\n",
    "    \n",
    "    for question, correct_answer in questions.items():\n",
    "        print(question)\n",
    "        user_answer = input(\"Jawab: \").strip().lower()\n",
    "        \n",
    "        if user_answer == correct_answer.lower():\n",
    "            print(\"Jawaban benar!\")\n",
    "            correct_answers += 1\n",
    "        else:\n",
    "            print(\"Jawaban salah!\")\n",
    "            print(\"Jawaban yang benar adalah:\", correct_answer)\n",
    "    \n",
    "    total_questions = len(questions)\n",
    "    print(\"\\nHasil akhir:\")\n",
    "    print(\"Jumlah jawaban benar:\", correct_answers)\n",
    "    print(\"Jumlah total soal:\", total_questions)\n",
    "    print(\"Persentase kebenaran: {:.2f}%\".format((correct_answers / total_questions) * 100))\n",
    "\n",
    "if __name__ == \"__main__\":\n",
    "    main()\n"
   ]
  }
 ],
 "metadata": {
  "kernelspec": {
   "display_name": "Python 3",
   "language": "python",
   "name": "python3"
  },
  "language_info": {
   "codemirror_mode": {
    "name": "ipython",
    "version": 3
   },
   "file_extension": ".py",
   "mimetype": "text/x-python",
   "name": "python",
   "nbconvert_exporter": "python",
   "pygments_lexer": "ipython3",
   "version": "3.12.0"
  }
 },
 "nbformat": 4,
 "nbformat_minor": 2
}
